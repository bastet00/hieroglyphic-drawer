{
 "cells": [
  {
   "cell_type": "code",
   "execution_count": 28,
   "metadata": {},
   "outputs": [],
   "source": [
    "def convert_mdc_to_nested_array(mdc):\n",
    "    symbolBlocks = mdc.split(\"-\")\n",
    "    for i in range(len(symbolBlocks)):\n",
    "        if \":\" in symbolBlocks[i]:\n",
    "            symbolBlocks[i] = symbolBlocks[i].split(\":\")\n",
    "        if \"&\" in symbolBlocks[i]:\n",
    "            symbolBlocks[i] = symbolBlocks[i].split(\"&\")\n",
    "    return symbolBlocks"
   ]
  },
  {
   "cell_type": "code",
   "execution_count": 29,
   "metadata": {},
   "outputs": [],
   "source": [
    "mdc_array = convert_mdc_to_nested_array(\"A1&A1-A1&A1\")"
   ]
  },
  {
   "cell_type": "code",
   "execution_count": 27,
   "metadata": {},
   "outputs": [
    {
     "data": {
      "text/plain": [
       "NoneType"
      ]
     },
     "execution_count": 27,
     "metadata": {},
     "output_type": "execute_result"
    }
   ],
   "source": []
  },
  {
   "cell_type": "code",
   "execution_count": 30,
   "metadata": {},
   "outputs": [],
   "source": [
    "import json \n",
    "def load_unicode_symbol_mapper():\n",
    "    \"\"\"\n",
    "    @Returns parsed json file\n",
    "    \"\"\"\n",
    "    with open(\"signs_mapper.json\", \"r\") as file:\n",
    "        return json.load(file)"
   ]
  },
  {
   "cell_type": "code",
   "execution_count": 31,
   "metadata": {},
   "outputs": [],
   "source": [
    "def convert_mdc_array_to_unicode_array(mdc):\n",
    "    unicode_array = []\n",
    "    mapper = load_unicode_symbol_mapper()\n",
    "    for symbolBlock in convert_mdc_to_nested_array(mdc):\n",
    "        if isinstance(symbolBlock, list):\n",
    "            unicode_array.append([ mapper[symbol] for symbol in symbolBlock])\n",
    "        else:\n",
    "            unicode_array.append(mapper[symbolBlock])\n",
    "    return unicode_array"
   ]
  },
  {
   "cell_type": "code",
   "execution_count": 36,
   "metadata": {},
   "outputs": [
    {
     "name": "stdout",
     "output_type": "stream",
     "text": [
      "debug1 ['G1', 'D36', 'D58']\n",
      "['𓄿', '𓂝', '𓃀']\n",
      "debug1 ['X1', 'G37']\n",
      "['𓏏', '𓅪']\n"
     ]
    },
    {
     "data": {
      "text/plain": [
       "[['𓄿', '𓂝', '𓃀'], ['𓏏', '𓅪']]"
      ]
     },
     "execution_count": 36,
     "metadata": {},
     "output_type": "execute_result"
    }
   ],
   "source": [
    "convert_mdc_array_to_unicode_array(\"G1&D36&D58-X1:G37\")"
   ]
  },
  {
   "attachments": {
    "image.png": {
     "image/png": "[encoded data removed]"
    }
   },
   "cell_type": "markdown",
   "metadata": {},
   "source": [
    "## G1-D36:D36-D51:D40 \n",
    "![image.png](attachment:image.png)"
   ]
  },
  {
   "cell_type": "code",
   "execution_count": null,
   "metadata": {},
   "outputs": [],
   "source": [
    "# G1-D36:D36-D51:D40 \n",
    "\n",
    "[ \n",
    "  {\"type\": \"one_symbol\", \"value\": \"𓄿\"},\n",
    "  {\"type\": \":top and down\", \"value\": [{\"type\": \"one_symbol\", \"value\": \"𓂝\"}, {\"type\": \"one_symbol\", \"value\": \"𓂝\"}] }, \n",
    "  {\"type\": \":top and down\", \"value\": [{\"type\": \"one_symbol\", \"value\": \"𓂷\"}, {\"type\": \"one_symbol\", \"value\": \"𓂡\"}] }, \n",
    "]\n"
   ]
  },
  {
   "attachments": {
    "image.png": {
     "image/png": "[encoded data removed]"
    }
   },
   "cell_type": "markdown",
   "metadata": {},
   "source": [
    "# R4:X1*Q3\n",
    "![image.png](attachment:image.png)"
   ]
  },
  {
   "cell_type": "code",
   "execution_count": null,
   "metadata": {},
   "outputs": [],
   "source": [
    "[ \n",
    "  {\"type\": \":\", \"value\": \n",
    "   [{\"type\": \"one_symbol\", \"value\": \"R4\"}, \n",
    "    {\"type\": \"*\", \"value\": [{\"type\": \"one_symbol\", \"value\": \"X1\"}, {\"type\": \"one_symbol\", \"value\": \"Q3\"}]}] }, \n",
    "]"
   ]
  },
  {
   "attachments": {
    "image.png": {
     "image/png": "[encoded data removed]"
    }
   },
   "cell_type": "markdown",
   "metadata": {},
   "source": [
    "## G1&X1-F9\n",
    "![image.png](attachment:image.png)"
   ]
  },
  {
   "attachments": {
    "image.png": {
     "image/png": "[encoded data removed]"
    }
   },
   "cell_type": "markdown",
   "metadata": {},
   "source": [
    "## T14-A1*B1:Z2\n",
    "\n",
    "![image.png](attachment:image.png)"
   ]
  },
  {
   "cell_type": "code",
   "execution_count": null,
   "metadata": {},
   "outputs": [],
   "source": []
  }
 ],
 "metadata": {
  "kernelspec": {
   "display_name": "Python 3",
   "language": "python",
   "name": "python3"
  },
  "language_info": {
   "codemirror_mode": {
    "name": "ipython",
    "version": 3
   },
   "file_extension": ".py",
   "mimetype": "text/x-python",
   "name": "python",
   "nbconvert_exporter": "python",
   "pygments_lexer": "ipython3",
   "version": "3.10.12"
  }
 },
 "nbformat": 4,
 "nbformat_minor": 2
}
